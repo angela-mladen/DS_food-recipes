{
  "cells": [
    {
      "cell_type": "markdown",
      "metadata": {
        "id": "ECjcD7eTbfLI"
      },
      "source": [
        "Import all necessary libraries."
      ]
    },
    {
      "cell_type": "code",
      "source": [
        "!pip install thefuzz\n"
      ],
      "metadata": {
        "colab": {
          "base_uri": "https://localhost:8080/"
        },
        "id": "bgorCVmSo4-q",
        "outputId": "3da7452c-da54-4e0a-8a26-1f75201531a2"
      },
      "execution_count": 2,
      "outputs": [
        {
          "output_type": "stream",
          "name": "stdout",
          "text": [
            "Collecting thefuzz\n",
            "  Downloading thefuzz-0.22.1-py3-none-any.whl (8.2 kB)\n",
            "Collecting rapidfuzz<4.0.0,>=3.0.0 (from thefuzz)\n",
            "  Downloading rapidfuzz-3.9.3-cp310-cp310-manylinux_2_17_x86_64.manylinux2014_x86_64.whl (3.4 MB)\n",
            "\u001b[2K     \u001b[90m━━━━━━━━━━━━━━━━━━━━━━━━━━━━━━━━━━━━━━━━\u001b[0m \u001b[32m3.4/3.4 MB\u001b[0m \u001b[31m26.6 MB/s\u001b[0m eta \u001b[36m0:00:00\u001b[0m\n",
            "\u001b[?25hInstalling collected packages: rapidfuzz, thefuzz\n",
            "Successfully installed rapidfuzz-3.9.3 thefuzz-0.22.1\n"
          ]
        }
      ]
    },
    {
      "cell_type": "code",
      "execution_count": 3,
      "metadata": {
        "id": "ZsCvmlc9bfLN"
      },
      "outputs": [],
      "source": [
        "import pandas as pd\n",
        "from thefuzz import process\n",
        "import re"
      ]
    },
    {
      "cell_type": "code",
      "source": [
        "from google.colab import drive\n",
        "\n",
        "drive.mount('/content/drive')"
      ],
      "metadata": {
        "colab": {
          "base_uri": "https://localhost:8080/"
        },
        "id": "A8OSxfCBotu6",
        "outputId": "ce2548ef-dde4-497f-ced2-2c16f32e3a9f"
      },
      "execution_count": 4,
      "outputs": [
        {
          "output_type": "stream",
          "name": "stdout",
          "text": [
            "Mounted at /content/drive\n"
          ]
        }
      ]
    },
    {
      "cell_type": "markdown",
      "metadata": {
        "id": "V5qgS5LHbfLP"
      },
      "source": [
        "## **Experiment Merging using Fuzzy Logic**"
      ]
    },
    {
      "cell_type": "markdown",
      "metadata": {
        "id": "LbF1KcyrbfLQ"
      },
      "source": [
        "Try to merge datasets using Fuzzy logic, based on ingredient names and their similarity. The purpose of merging is to extend ingredients with macro values."
      ]
    },
    {
      "cell_type": "code",
      "execution_count": 5,
      "metadata": {
        "colab": {
          "base_uri": "https://localhost:8080/"
        },
        "id": "x-1l2VgYbfLR",
        "outputId": "e9d0d090-d78b-4461-8c6e-36e804772d07"
      },
      "outputs": [
        {
          "output_type": "stream",
          "name": "stderr",
          "text": [
            "WARNING:thefuzz.process:Applied processor reduces input query to empty string, all comparisons will have score 0. [Query: '-- --']\n",
            "WARNING:thefuzz.process:Applied processor reduces input query to empty string, all comparisons will have score 0. [Query: '-']\n"
          ]
        },
        {
          "output_type": "stream",
          "name": "stdout",
          "text": [
            "                     food_title  \\\n",
            "0     Crunchy Onion Potato Bake   \n",
            "1       Spinach and Yogurt Soup   \n",
            "2       Spinach and Yogurt Soup   \n",
            "3  Peanut Butter Fudge Frosting   \n",
            "4                   Mostaccioli   \n",
            "\n",
            "                                        instructions  \\\n",
            "0  Preheat oven to 350 degrees Fahrenheit. /t Spr...   \n",
            "1  Wash and drain spinach; remove any large stems...   \n",
            "2  Wash and drain spinach; remove any large stems...   \n",
            "3  In a bowl, using an electric mixer, beat toget...   \n",
            "4  In bowl, beat butter with granulated sugar unt...   \n",
            "\n",
            "                            ingredient       ID                 Food Name  \\\n",
            "0                 1 cup cheddar cheese   328637           cheese, cheddar   \n",
            "1  1 tablespoon extra virgin olive oil   748608  oil, olive, extra virgin   \n",
            "2        2 14 cups plain nonfat yogurt  2647437     yogurt, plain, nonfat   \n",
            "3               34 cup unsalted butter   789828   butter, stick, unsalted   \n",
            "4               14 cup unsalted butter   789828   butter, stick, unsalted   \n",
            "\n",
            "      Kcal  Protein  Carbohydrate  Fiber  Total Fat  Saturated Fat  \\\n",
            "0  408.000    23.30          2.44    0.0     34.000           19.2   \n",
            "1  843.030     0.00          0.00    0.0     93.670           15.4   \n",
            "2   50.023     4.23          8.08    0.0      0.087            0.0   \n",
            "3  733.500     0.00          0.00    0.0     81.500            0.0   \n",
            "4  733.500     0.00          0.00    0.0     81.500            0.0   \n",
            "\n",
            "   Monounsaturated Fat  Polyunsaturated Fat  Trans Fat  \n",
            "0                 7.44                 1.18       1.14  \n",
            "1                69.20                 9.07       0.00  \n",
            "2                 0.00                 0.00       0.00  \n",
            "3                 0.00                 0.00       0.00  \n",
            "4                 0.00                 0.00       0.00  \n"
          ]
        }
      ],
      "source": [
        "# Load the datasets\n",
        "recipes_df = pd.read_csv('/content/drive/MyDrive/Colab Notebooks/DS Project food/Exploded_Recipes.csv')\n",
        "food_macro_df = pd.read_csv('/content/drive/MyDrive/Colab Notebooks/DS Project food/FoodMacroDetailedInfo.csv')\n",
        "\n",
        "# Normalize text data to lower case to ensure case-insensitive matching\n",
        "recipes_df['ingredient'] = recipes_df['ingredient'].str.lower()\n",
        "food_macro_df['Food Name'] = food_macro_df['Food Name'].str.lower()\n",
        "\n",
        "# Prepare an empty DataFrame to store the results\n",
        "enriched_recipes = pd.DataFrame()\n",
        "\n",
        "# Function to find the best match using thefuzz\n",
        "def find_best_match(ingredient):\n",
        "    # Find the best match and its score\n",
        "    best_match, score = process.extractOne(ingredient, food_macro_df['Food Name'].tolist(), scorer=process.fuzz.token_sort_ratio)\n",
        "    # Only consider the match if the score is high enough\n",
        "    if score > 75:  # Adjust the threshold as needed\n",
        "        return best_match\n",
        "    return None\n",
        "\n",
        "# Apply the matching function to each ingredient and enrich the recipes\n",
        "for index, row in recipes_df.iterrows():\n",
        "    ingredient = row['ingredient']\n",
        "    best_match = find_best_match(ingredient)\n",
        "    if best_match:\n",
        "        match_row = food_macro_df[food_macro_df['Food Name'] == best_match].iloc[0]\n",
        "        enriched_row = row.copy()\n",
        "        for col in food_macro_df.columns:\n",
        "            enriched_row[col] = match_row[col]\n",
        "        enriched_recipes = pd.concat([enriched_recipes, pd.DataFrame([enriched_row])], ignore_index=True)\n",
        "\n",
        "# Optionally save the merged data to a new CSV file\n",
        "enriched_recipes.to_csv('/content/drive/MyDrive/Colab Notebooks/DS Project food/enriched_recipesxx.csv', index=False)\n",
        "\n",
        "# Print a sample of the enriched dataset to verify\n",
        "print(enriched_recipes.head())\n"
      ]
    },
    {
      "cell_type": "markdown",
      "metadata": {
        "id": "hJbxjYxWbfLR"
      },
      "source": [
        "Order this merged dataset."
      ]
    },
    {
      "cell_type": "code",
      "execution_count": 6,
      "metadata": {
        "colab": {
          "base_uri": "https://localhost:8080/"
        },
        "id": "LNoPcGiHbfLS",
        "outputId": "64203094-15b7-405f-87fd-8b717ea5275c"
      },
      "outputs": [
        {
          "output_type": "stream",
          "name": "stdout",
          "text": [
            "                             food_title  \\\n",
            "7759            \"Hold-the-Phone\" Burger   \n",
            "8820                \"Paella\" Fried Rice   \n",
            "6853  \"Rye\"-Raisin Belgian Waffle Bread   \n",
            "5272         10 Minute Szechuan Chicken   \n",
            "6149  15 Minute Chicken and Rice Dinner   \n",
            "\n",
            "                                           instructions  \\\n",
            "7759  Shape meat loosely into 12 (6-oz./170-g) balls...   \n",
            "8820  Heat oil in a 12-inch nonstick skillet over mo...   \n",
            "6853  In a large bowl, whisk sorghum flour with mill...   \n",
            "5272  Cut chicken into 1 1/2 inch cubes. /t Lightly ...   \n",
            "6149  Brown chicken in hot oil, 5 minutes on each si...   \n",
            "\n",
            "                                     ingredient       ID  \\\n",
            "7759               3/4 cup creamy peanut butter  2262072   \n",
            "8820             1/4 cup extra-virgin olive oil   748608   \n",
            "6853                      13 c. unsalted butter   789828   \n",
            "5272  4 boneless skinless chicken breast halves  2646170   \n",
            "6149        4 boneless skinless chicken breasts  2646170   \n",
            "\n",
            "                                     Food Name    Kcal  Protein  Carbohydrate  \\\n",
            "7759                     peanut butter, creamy  644.04     24.0          22.7   \n",
            "8820                  oil, olive, extra virgin  843.03      0.0           0.0   \n",
            "6853                   butter, stick, unsalted  733.50      0.0           0.0   \n",
            "5272  chicken, breast, boneless, skinless, raw  107.37     22.5           0.0   \n",
            "6149  chicken, breast, boneless, skinless, raw  107.37     22.5           0.0   \n",
            "\n",
            "      Fiber  Total Fat  Saturated Fat  Monounsaturated Fat  \\\n",
            "7759   6.32      49.40          8.420               30.700   \n",
            "8820   0.00      93.67         15.400               69.200   \n",
            "6853   0.00      81.50          0.000                0.000   \n",
            "5272   0.00       1.93          0.349                0.369   \n",
            "6149   0.00       1.93          0.349                0.369   \n",
            "\n",
            "      Polyunsaturated Fat  Trans Fat  \n",
            "7759                9.780      0.000  \n",
            "8820                9.070      0.000  \n",
            "6853                0.000      0.000  \n",
            "5272                0.296      0.009  \n",
            "6149                0.296      0.009  \n"
          ]
        }
      ],
      "source": [
        "# Load the enriched recipes file\n",
        "enriched_recipes_path = '/content/drive/MyDrive/Colab Notebooks/DS Project food/enriched_recipesxx.csv'\n",
        "enriched_recipes_df = pd.read_csv(enriched_recipes_path)\n",
        "\n",
        "# Sort the DataFrame by the 'food_title' column alphabetically\n",
        "enriched_recipes_df_sorted = enriched_recipes_df.sort_values(by='food_title')\n",
        "\n",
        "# Save the sorted DataFrame back to a new CSV file\n",
        "sorted_recipes_path = '/content/drive/MyDrive/Colab Notebooks/DS Project food/sorted_enriched_recipesxx.csv'\n",
        "enriched_recipes_df_sorted.to_csv(sorted_recipes_path, index=False)\n",
        "\n",
        "# Print a sample of the sorted dataset to verify\n",
        "print(enriched_recipes_df_sorted.head())"
      ]
    },
    {
      "cell_type": "markdown",
      "metadata": {
        "id": "WubhFb0vbfLS"
      },
      "source": [
        "Note, there are a lot of missing ingredients due to few similarities between food data in the Macro dataset and food data in the ingredients column."
      ]
    },
    {
      "cell_type": "markdown",
      "metadata": {
        "id": "7H3EJYBjbfLS"
      },
      "source": [
        "Try to merge again using fuzzy logic and common mappings for food names."
      ]
    },
    {
      "cell_type": "code",
      "execution_count": 8,
      "metadata": {
        "colab": {
          "base_uri": "https://localhost:8080/"
        },
        "id": "O6dYg8RrbfLT",
        "outputId": "4adbc75a-424b-4a12-da25-07aab8e673a5"
      },
      "outputs": [
        {
          "output_type": "stream",
          "name": "stderr",
          "text": [
            "WARNING:thefuzz.process:Applied processor reduces input query to empty string, all comparisons will have score 0. [Query: '-- --']\n",
            "WARNING:thefuzz.process:Applied processor reduces input query to empty string, all comparisons will have score 0. [Query: '-']\n"
          ]
        },
        {
          "output_type": "stream",
          "name": "stdout",
          "text": [
            "                  food_title  \\\n",
            "0  Crunchy Onion Potato Bake   \n",
            "1  Crunchy Onion Potato Bake   \n",
            "2  Crunchy Onion Potato Bake   \n",
            "3  Crunchy Onion Potato Bake   \n",
            "4  Crunchy Onion Potato Bake   \n",
            "\n",
            "                                        instructions  \\\n",
            "0  Preheat oven to 350 degrees Fahrenheit. /t Spr...   \n",
            "1  Preheat oven to 350 degrees Fahrenheit. /t Spr...   \n",
            "2  Preheat oven to 350 degrees Fahrenheit. /t Spr...   \n",
            "3  Preheat oven to 350 degrees Fahrenheit. /t Spr...   \n",
            "4  Preheat oven to 350 degrees Fahrenheit. /t Spr...   \n",
            "\n",
            "                                    ingredient  ID Food Name  Kcal  Protein  \\\n",
            "0                               2 12 cups milk NaN       NaN   NaN      NaN   \n",
            "1                              1 12 cups water NaN       NaN   NaN      NaN   \n",
            "2                                14 cup butter NaN       NaN   NaN      NaN   \n",
            "3            mashed potatoes, 1 box, homestyle NaN       NaN   NaN      NaN   \n",
            "4  1 (8 ounce) can whole kernel corn (drained) NaN       NaN   NaN      NaN   \n",
            "\n",
            "   Carbohydrate  Fiber  Total Fat  Saturated Fat  Monounsaturated Fat  \\\n",
            "0           NaN    NaN        NaN            NaN                  NaN   \n",
            "1           NaN    NaN        NaN            NaN                  NaN   \n",
            "2           NaN    NaN        NaN            NaN                  NaN   \n",
            "3           NaN    NaN        NaN            NaN                  NaN   \n",
            "4           NaN    NaN        NaN            NaN                  NaN   \n",
            "\n",
            "   Polyunsaturated Fat  Trans Fat  \n",
            "0                  NaN        NaN  \n",
            "1                  NaN        NaN  \n",
            "2                  NaN        NaN  \n",
            "3                  NaN        NaN  \n",
            "4                  NaN        NaN  \n"
          ]
        }
      ],
      "source": [
        "# Load the datasets\n",
        "recipes_df = pd.read_csv('/content/drive/MyDrive/Colab Notebooks/DS Project food/Exploded_Recipes.csv')\n",
        "food_macro_df = pd.read_csv('/content/drive/MyDrive/Colab Notebooks/DS Project food/FoodMacroDetailedInfo.csv')\n",
        "\n",
        "# Normalize text data to lower case to ensure case-insensitive matching\n",
        "recipes_df['ingredient'] = recipes_df['ingredient'].str.lower().str.strip()\n",
        "food_macro_df['Food Name'] = food_macro_df['Food Name'].str.lower().str.strip()\n",
        "\n",
        "# Predefined mapping for common ingredients (50 mappings)\n",
        "common_mappings = {\n",
        "    'milk': 'milk, lowfat, fluid, 1% milkfat, with added vitamin a and vitamin d',\n",
        "    'ketchup': 'ketchup, no salt added',\n",
        "    'sugar': 'sugar, granulated',\n",
        "    'flour': 'wheat flour, white, all-purpose, enriched, bleached',\n",
        "    'butter': 'butter, salted',\n",
        "    'egg': 'egg, whole, raw, fresh',\n",
        "    'onion': 'onions, raw',\n",
        "    'garlic': 'garlic, raw',\n",
        "    'salt': 'salt, table',\n",
        "    'pepper': 'spices, pepper, black',\n",
        "    'olive oil': 'oil, olive, salad or cooking',\n",
        "    'chicken': 'chicken, broilers or fryers, meat only, raw',\n",
        "    'beef': 'beef, ground, 85% lean meat / 15% fat, raw',\n",
        "    'carrot': 'carrots, raw',\n",
        "    'potato': 'potatoes, flesh and skin, raw',\n",
        "    'tomato': 'tomatoes, red, ripe, raw, year round average',\n",
        "    'cheese': 'cheese, cheddar',\n",
        "    'bread': 'bread, whole-wheat',\n",
        "    'rice': 'rice, white, long-grain, regular, raw, unenriched',\n",
        "    'pasta': 'pasta, cooked, unenriched, without added salt',\n",
        "    'banana': 'bananas, raw',\n",
        "    'apple': 'apples, raw, with skin',\n",
        "    'lettuce': 'lettuce, raw',\n",
        "    'spinach': 'spinach, raw',\n",
        "    'broccoli': 'broccoli, raw',\n",
        "    'cucumber': 'cucumbers, raw, with peel',\n",
        "    'corn': 'corn, sweet, yellow, raw',\n",
        "    'mushroom': 'mushrooms, white, raw',\n",
        "    'cabbage': 'cabbage, raw',\n",
        "    'peanut butter': 'peanut butter, smooth style, with salt',\n",
        "    'yogurt': 'yogurt, plain, whole milk',\n",
        "    'honey': 'honey',\n",
        "    'lemon': 'lemons, raw, without peel',\n",
        "    'lime': 'limes, raw',\n",
        "    'orange': 'oranges, raw, all commercial varieties',\n",
        "    'grape': 'grapes, raw',\n",
        "    'strawberry': 'strawberries, raw',\n",
        "    'blueberry': 'blueberries, raw',\n",
        "    'raspberry': 'raspberries, raw',\n",
        "    'blackberry': 'blackberries, raw',\n",
        "    'pineapple': 'pineapple, raw, all varieties',\n",
        "    'watermelon': 'watermelon, raw',\n",
        "    'cantaloupe': 'melons, cantaloupe, raw',\n",
        "    'peach': 'peaches, raw',\n",
        "    'pear': 'pears, raw',\n",
        "    'plum': 'plums, raw',\n",
        "    'cherry': 'cherries, sweet, raw',\n",
        "    'kiwi': 'kiwifruit, green, raw',\n",
        "    'mango': 'mangos, raw',\n",
        "    'papaya': 'papayas, raw',\n",
        "    'buttermilk': 'buttermilk, fluid, whole',\n",
        "    'mayonnaise': 'mayonnaise, regular',\n",
        "    'soy sauce': 'soy sauce made from soy (tamari)',\n",
        "    'vinegar': 'vinegar, distilled',\n",
        "    'cream': 'cream, fluid, heavy whipping',\n",
        "    'coconut milk': 'beverage, coconut milk, unsweetened',\n",
        "    'chocolate': 'chocolate, dark, 70-85% cacao solids',\n",
        "    'raisins': 'raisins, seedless',\n",
        "    'almonds': 'nuts, almonds',\n",
        "    'walnuts': 'nuts, walnuts, english',\n",
        "    'pecans': 'nuts, pecans',\n",
        "    'cashews': 'nuts, cashew nuts, raw',\n",
        "    'hazelnuts': 'nuts, hazelnuts or filberts',\n",
        "    'peanut': 'nuts, peanuts, all types, raw',\n",
        "    'sunflower seeds': 'seeds, sunflower seed kernels, dried',\n",
        "    'sesame seeds': 'seeds, sesame seeds, whole, dried',\n",
        "    'chia seeds': 'seeds, chia seeds, dried',\n",
        "    'flax seeds': 'seeds, flaxseed',\n",
        "    'pistachios': 'nuts, pistachio nuts, raw',\n",
        "    'dates': 'dates, medjool',\n",
        "    'figs': 'figs, raw',\n",
        "    'prunes': 'prunes, dried (pitted)',\n",
        "    'apricots': 'apricots, raw',\n",
        "    'peppers': 'peppers, sweet, green, raw',\n",
        "    'zucchini': 'squash, summer, zucchini, includes skin, raw',\n",
        "    'eggplant': 'eggplant, raw',\n",
        "    'pumpkin': 'pumpkin, raw',\n",
        "    'acorn squash': 'squash, winter, acorn, raw',\n",
        "    'butternut squash': 'squash, winter, butternut, raw',\n",
        "    'cauliflower': 'cauliflower, raw',\n",
        "    'green beans': 'beans, snap, green, raw',\n",
        "    'chickpeas': 'chickpeas (garbanzo beans, bengal gram), mature seeds, raw',\n",
        "    'lentils': 'lentils, raw',\n",
        "    'kidney beans': 'beans, kidney, all types, mature seeds, raw',\n",
        "    'black beans': 'beans, black turtle, mature seeds, raw',\n",
        "    'navy beans': 'beans, navy, mature seeds, raw',\n",
        "    'pinto beans': 'beans, pinto, mature seeds, raw'\n",
        "}\n",
        "\n",
        "# Function to find the best match using thefuzz\n",
        "def find_best_match(ingredient):\n",
        "    if ingredient in common_mappings:\n",
        "        return common_mappings[ingredient]\n",
        "    best_match, score = process.extractOne(ingredient, food_macro_df['Food Name'].tolist(), scorer=process.fuzz.token_sort_ratio)\n",
        "    if score > 75:  # Adjust the threshold as needed\n",
        "        return best_match\n",
        "    return None\n",
        "\n",
        "# Create a new DataFrame to hold the matches and macronutrient information\n",
        "matches = []\n",
        "\n",
        "# Iterate through each ingredient in recipes_df\n",
        "for index, row in recipes_df.iterrows():\n",
        "    ingredient = row['ingredient']\n",
        "    best_match = find_best_match(ingredient)\n",
        "    match_info = {'ingredient': ingredient}\n",
        "    if best_match:\n",
        "        match_row = food_macro_df[food_macro_df['Food Name'] == best_match]\n",
        "        if not match_row.empty:\n",
        "            match_row = match_row.iloc[0]\n",
        "            for col in food_macro_df.columns:\n",
        "                match_info[col] = match_row[col]\n",
        "    matches.append(match_info)\n",
        "\n",
        "# Create a DataFrame from the matches\n",
        "matches_df = pd.DataFrame(matches)\n",
        "\n",
        "# Merge the matches with the original recipes DataFrame\n",
        "enriched_recipes = pd.concat([recipes_df.reset_index(drop=True), matches_df.drop(columns=['ingredient'])], axis=1)\n",
        "\n",
        "# Optionally save the merged data to a new CSV file\n",
        "enriched_recipes.to_csv('/content/drive/MyDrive/Colab Notebooks/DS Project food/xd.csv', index=False)\n",
        "\n",
        "# Print a sample of the enriched dataset to verify\n",
        "print(enriched_recipes.head())\n"
      ]
    },
    {
      "cell_type": "markdown",
      "metadata": {
        "id": "Wp-2XDS4bfLT"
      },
      "source": [
        "**Sadly, the merge is still impossible due to few parallels between the columns. The 1M recipe ingredients are very badly web scraped when the dataset was made, thus there is no common guideline and there are way too many inconsistences for merging to be possible with any common logic.**"
      ]
    },
    {
      "cell_type": "markdown",
      "metadata": {
        "id": "XjOWsegwbfLU"
      },
      "source": [
        "Create a merge where all word instances in the ingredient dataset match all words instances for the food names in the Macro dataset. (This is not usable, but experimental). The point is to view how many items can be merged and to see if words can actually be merged in these datasets."
      ]
    },
    {
      "cell_type": "code",
      "execution_count": 9,
      "metadata": {
        "colab": {
          "base_uri": "https://localhost:8080/"
        },
        "id": "o5YPW3CSbfLU",
        "outputId": "f83e9fbf-33c7-4f9b-e645-6f0f786e0359"
      },
      "outputs": [
        {
          "output_type": "stream",
          "name": "stdout",
          "text": [
            "Merged dataset saved to /content/drive/MyDrive/Colab Notebooks/DS Project food/Merged_Recipes_AllNames_Macros.csv\n"
          ]
        }
      ],
      "source": [
        "# Function to normalize strings\n",
        "def normalize_string(s):\n",
        "    s = s.lower()  # Convert to lowercase\n",
        "    s = re.sub(r'[^a-zA-Z0-9\\s]', '', s)  # Remove punctuation\n",
        "    s = s.strip()  # Trim whitespace\n",
        "    return s\n",
        "\n",
        "# Function to extract unique words from a string\n",
        "def extract_words(s):\n",
        "    return set(s.split())\n",
        "\n",
        "# Load the datasets\n",
        "recipes_path = '/content/drive/MyDrive/Colab Notebooks/DS Project food/Reduced_Recipes.csv'\n",
        "macros_path = '/content/drive/MyDrive/Colab Notebooks/DS Project food/FoodMacroDetailedInfo.csv'\n",
        "\n",
        "recipes_df = pd.read_csv(recipes_path)\n",
        "macros_df = pd.read_csv(macros_path)\n",
        "\n",
        "# Normalize the Ingredient and Food Name columns\n",
        "recipes_df['ingredient_normalized'] = recipes_df['ingredient'].apply(normalize_string)\n",
        "macros_df['food_name_normalized'] = macros_df['Food Name'].apply(normalize_string)\n",
        "\n",
        "# Extract words from the normalized columns\n",
        "recipes_df['ingredient_words'] = recipes_df['ingredient_normalized'].apply(extract_words)\n",
        "macros_df['food_name_words'] = macros_df['food_name_normalized'].apply(extract_words)\n",
        "\n",
        "# Function to check if there is any common word between two sets\n",
        "def has_common_word(set1, set2):\n",
        "    return not set1.isdisjoint(set2)\n",
        "\n",
        "# Create a list to hold the matches\n",
        "matches = []\n",
        "\n",
        "# Find matches based on common words\n",
        "for i, recipe_row in recipes_df.iterrows():\n",
        "    for j, macro_row in macros_df.iterrows():\n",
        "        if has_common_word(recipe_row['ingredient_words'], macro_row['food_name_words']):\n",
        "            match = {**recipe_row, **macro_row}\n",
        "            matches.append(match)\n",
        "\n",
        "# Create a DataFrame from the matches\n",
        "merged_df = pd.DataFrame(matches)\n",
        "\n",
        "# Save the merged dataset to a new CSV file\n",
        "merged_file_path = '/content/drive/MyDrive/Colab Notebooks/DS Project food/Merged_Recipes_AllNames_Macros.csv'\n",
        "merged_df.to_csv(merged_file_path, index=False)\n",
        "\n",
        "print(f\"Merged dataset saved to {merged_file_path}\")\n"
      ]
    }
  ],
  "metadata": {
    "kernelspec": {
      "display_name": "base",
      "language": "python",
      "name": "python3"
    },
    "language_info": {
      "name": "python",
      "version": "3.10.14"
    },
    "colab": {
      "provenance": []
    }
  },
  "nbformat": 4,
  "nbformat_minor": 0
}